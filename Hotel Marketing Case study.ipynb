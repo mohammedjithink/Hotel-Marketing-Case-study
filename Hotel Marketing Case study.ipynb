{
 "cells": [
  {
   "cell_type": "markdown",
   "id": "50a075cd",
   "metadata": {},
   "source": [
    "# Hotel Marketing Case study"
   ]
  },
  {
   "cell_type": "code",
   "execution_count": 1,
   "id": "763ba9bd",
   "metadata": {},
   "outputs": [],
   "source": [
    "import numpy as np\n",
    "import pandas as pd\n",
    "import matplotlib.pyplot as plt\n",
    "import matplotlib.image as mpimg\n",
    "%matplotlib inline\n",
    "import seaborn as sns"
   ]
  },
  {
   "cell_type": "code",
   "execution_count": 2,
   "id": "2448ebb8",
   "metadata": {},
   "outputs": [],
   "source": [
    "case_study=pd.read_csv('D:/python learning/hotel marketing.csv')"
   ]
  },
  {
   "cell_type": "code",
   "execution_count": 3,
   "id": "3aa15206",
   "metadata": {},
   "outputs": [
    {
     "data": {
      "text/html": [
       "<div>\n",
       "<style scoped>\n",
       "    .dataframe tbody tr th:only-of-type {\n",
       "        vertical-align: middle;\n",
       "    }\n",
       "\n",
       "    .dataframe tbody tr th {\n",
       "        vertical-align: top;\n",
       "    }\n",
       "\n",
       "    .dataframe thead th {\n",
       "        text-align: right;\n",
       "    }\n",
       "</style>\n",
       "<table border=\"1\" class=\"dataframe\">\n",
       "  <thead>\n",
       "    <tr style=\"text-align: right;\">\n",
       "      <th></th>\n",
       "      <th>Date</th>\n",
       "      <th>Geographic Region</th>\n",
       "      <th>Platform</th>\n",
       "      <th>Marketing Channel</th>\n",
       "      <th>Visits</th>\n",
       "      <th>Qualified Shoppers</th>\n",
       "      <th>Bounced Visits</th>\n",
       "      <th>Gross Orders</th>\n",
       "      <th>Net Orders</th>\n",
       "      <th>Net Room Nights</th>\n",
       "    </tr>\n",
       "  </thead>\n",
       "  <tbody>\n",
       "    <tr>\n",
       "      <th>0</th>\n",
       "      <td>1/1/2017</td>\n",
       "      <td>Geo Region 1</td>\n",
       "      <td>Desktop</td>\n",
       "      <td>Channel 1</td>\n",
       "      <td>3011</td>\n",
       "      <td>1878</td>\n",
       "      <td>811</td>\n",
       "      <td>1139</td>\n",
       "      <td>957</td>\n",
       "      <td>1848</td>\n",
       "    </tr>\n",
       "    <tr>\n",
       "      <th>1</th>\n",
       "      <td>1/1/2017</td>\n",
       "      <td>Geo Region 1</td>\n",
       "      <td>Desktop</td>\n",
       "      <td>Channel 2</td>\n",
       "      <td>119684</td>\n",
       "      <td>82504</td>\n",
       "      <td>26541</td>\n",
       "      <td>12489</td>\n",
       "      <td>10369</td>\n",
       "      <td>19897</td>\n",
       "    </tr>\n",
       "    <tr>\n",
       "      <th>2</th>\n",
       "      <td>1/1/2017</td>\n",
       "      <td>Geo Region 1</td>\n",
       "      <td>Desktop</td>\n",
       "      <td>Channel 3</td>\n",
       "      <td>25612</td>\n",
       "      <td>11828</td>\n",
       "      <td>7398</td>\n",
       "      <td>1399</td>\n",
       "      <td>1139</td>\n",
       "      <td>2257</td>\n",
       "    </tr>\n",
       "    <tr>\n",
       "      <th>3</th>\n",
       "      <td>1/1/2017</td>\n",
       "      <td>Geo Region 1</td>\n",
       "      <td>Desktop</td>\n",
       "      <td>Channel 4</td>\n",
       "      <td>3115</td>\n",
       "      <td>1463</td>\n",
       "      <td>1393</td>\n",
       "      <td>69</td>\n",
       "      <td>50</td>\n",
       "      <td>81</td>\n",
       "    </tr>\n",
       "    <tr>\n",
       "      <th>4</th>\n",
       "      <td>1/1/2017</td>\n",
       "      <td>Geo Region 1</td>\n",
       "      <td>Desktop</td>\n",
       "      <td>Channel 5</td>\n",
       "      <td>5657</td>\n",
       "      <td>4307</td>\n",
       "      <td>1346</td>\n",
       "      <td>641</td>\n",
       "      <td>517</td>\n",
       "      <td>921</td>\n",
       "    </tr>\n",
       "    <tr>\n",
       "      <th>...</th>\n",
       "      <td>...</td>\n",
       "      <td>...</td>\n",
       "      <td>...</td>\n",
       "      <td>...</td>\n",
       "      <td>...</td>\n",
       "      <td>...</td>\n",
       "      <td>...</td>\n",
       "      <td>...</td>\n",
       "      <td>...</td>\n",
       "      <td>...</td>\n",
       "    </tr>\n",
       "    <tr>\n",
       "      <th>87851</th>\n",
       "      <td>31/12/2019</td>\n",
       "      <td>Geo Region 4</td>\n",
       "      <td>Mobile</td>\n",
       "      <td>Channel 6</td>\n",
       "      <td>36235</td>\n",
       "      <td>12773</td>\n",
       "      <td>19264</td>\n",
       "      <td>110</td>\n",
       "      <td>86</td>\n",
       "      <td>206</td>\n",
       "    </tr>\n",
       "    <tr>\n",
       "      <th>87852</th>\n",
       "      <td>31/12/2019</td>\n",
       "      <td>Geo Region 4</td>\n",
       "      <td>Mobile</td>\n",
       "      <td>Channel 7</td>\n",
       "      <td>18389</td>\n",
       "      <td>7074</td>\n",
       "      <td>9493</td>\n",
       "      <td>79</td>\n",
       "      <td>69</td>\n",
       "      <td>155</td>\n",
       "    </tr>\n",
       "    <tr>\n",
       "      <th>87853</th>\n",
       "      <td>31/12/2019</td>\n",
       "      <td>Geo Region 4</td>\n",
       "      <td>Mobile</td>\n",
       "      <td>Channel 8</td>\n",
       "      <td>501</td>\n",
       "      <td>302</td>\n",
       "      <td>200</td>\n",
       "      <td>8</td>\n",
       "      <td>6</td>\n",
       "      <td>15</td>\n",
       "    </tr>\n",
       "    <tr>\n",
       "      <th>87854</th>\n",
       "      <td>31/12/2019</td>\n",
       "      <td>Geo Region 4</td>\n",
       "      <td>Mobile</td>\n",
       "      <td>Channel 9</td>\n",
       "      <td>9890</td>\n",
       "      <td>6330</td>\n",
       "      <td>3560</td>\n",
       "      <td>44</td>\n",
       "      <td>30</td>\n",
       "      <td>55</td>\n",
       "    </tr>\n",
       "    <tr>\n",
       "      <th>87855</th>\n",
       "      <td>31/12/2019</td>\n",
       "      <td>Geo Region 4</td>\n",
       "      <td>Mobile</td>\n",
       "      <td>Channel 10</td>\n",
       "      <td>7077</td>\n",
       "      <td>99</td>\n",
       "      <td>6799</td>\n",
       "      <td>3</td>\n",
       "      <td>1</td>\n",
       "      <td>-1</td>\n",
       "    </tr>\n",
       "  </tbody>\n",
       "</table>\n",
       "<p>87856 rows × 10 columns</p>\n",
       "</div>"
      ],
      "text/plain": [
       "             Date Geographic Region Platform Marketing Channel  Visits  \\\n",
       "0        1/1/2017      Geo Region 1  Desktop         Channel 1    3011   \n",
       "1        1/1/2017      Geo Region 1  Desktop         Channel 2  119684   \n",
       "2        1/1/2017      Geo Region 1  Desktop         Channel 3   25612   \n",
       "3        1/1/2017      Geo Region 1  Desktop         Channel 4    3115   \n",
       "4        1/1/2017      Geo Region 1  Desktop         Channel 5    5657   \n",
       "...           ...               ...      ...               ...     ...   \n",
       "87851  31/12/2019      Geo Region 4   Mobile         Channel 6   36235   \n",
       "87852  31/12/2019      Geo Region 4   Mobile         Channel 7   18389   \n",
       "87853  31/12/2019      Geo Region 4   Mobile         Channel 8     501   \n",
       "87854  31/12/2019      Geo Region 4   Mobile         Channel 9    9890   \n",
       "87855  31/12/2019      Geo Region 4   Mobile        Channel 10    7077   \n",
       "\n",
       "       Qualified Shoppers  Bounced Visits  Gross Orders  Net Orders  \\\n",
       "0                    1878             811          1139         957   \n",
       "1                   82504           26541         12489       10369   \n",
       "2                   11828            7398          1399        1139   \n",
       "3                    1463            1393            69          50   \n",
       "4                    4307            1346           641         517   \n",
       "...                   ...             ...           ...         ...   \n",
       "87851               12773           19264           110          86   \n",
       "87852                7074            9493            79          69   \n",
       "87853                 302             200             8           6   \n",
       "87854                6330            3560            44          30   \n",
       "87855                  99            6799             3           1   \n",
       "\n",
       "       Net Room Nights  \n",
       "0                 1848  \n",
       "1                19897  \n",
       "2                 2257  \n",
       "3                   81  \n",
       "4                  921  \n",
       "...                ...  \n",
       "87851              206  \n",
       "87852              155  \n",
       "87853               15  \n",
       "87854               55  \n",
       "87855               -1  \n",
       "\n",
       "[87856 rows x 10 columns]"
      ]
     },
     "execution_count": 3,
     "metadata": {},
     "output_type": "execute_result"
    }
   ],
   "source": [
    "case_study"
   ]
  },
  {
   "cell_type": "code",
   "execution_count": 4,
   "id": "59dd98e9",
   "metadata": {},
   "outputs": [
    {
     "data": {
      "text/plain": [
       "87856"
      ]
     },
     "execution_count": 4,
     "metadata": {},
     "output_type": "execute_result"
    }
   ],
   "source": [
    "len(case_study)"
   ]
  },
  {
   "cell_type": "code",
   "execution_count": 5,
   "id": "66cfde23",
   "metadata": {},
   "outputs": [
    {
     "data": {
      "text/plain": [
       "Date                  object\n",
       "Geographic Region     object\n",
       "Platform              object\n",
       "Marketing Channel     object\n",
       "Visits                 int64\n",
       "Qualified Shoppers     int64\n",
       "Bounced Visits         int64\n",
       "Gross Orders           int64\n",
       "Net Orders             int64\n",
       "Net Room Nights        int64\n",
       "dtype: object"
      ]
     },
     "execution_count": 5,
     "metadata": {},
     "output_type": "execute_result"
    }
   ],
   "source": [
    "case_study.dtypes\n"
   ]
  },
  {
   "cell_type": "code",
   "execution_count": 6,
   "id": "5422498f",
   "metadata": {},
   "outputs": [
    {
     "data": {
      "text/plain": [
       "Date                  0\n",
       "Geographic Region     0\n",
       "Platform              0\n",
       "Marketing Channel     0\n",
       "Visits                0\n",
       "Qualified Shoppers    0\n",
       "Bounced Visits        0\n",
       "Gross Orders          0\n",
       "Net Orders            0\n",
       "Net Room Nights       0\n",
       "dtype: int64"
      ]
     },
     "execution_count": 6,
     "metadata": {},
     "output_type": "execute_result"
    }
   ],
   "source": [
    "\n",
    "case_study.isnull().sum()"
   ]
  },
  {
   "cell_type": "code",
   "execution_count": 7,
   "id": "9aeab30b",
   "metadata": {},
   "outputs": [
    {
     "data": {
      "text/plain": [
       "array(['1/1/2017', '2/1/2017', '3/1/2017', ..., '29/12/2019',\n",
       "       '30/12/2019', '31/12/2019'], dtype=object)"
      ]
     },
     "execution_count": 7,
     "metadata": {},
     "output_type": "execute_result"
    }
   ],
   "source": [
    "case_study.Date.unique()"
   ]
  },
  {
   "cell_type": "code",
   "execution_count": 8,
   "id": "1c386a7f",
   "metadata": {},
   "outputs": [
    {
     "data": {
      "text/plain": [
       "array(['Desktop', 'Mobile'], dtype=object)"
      ]
     },
     "execution_count": 8,
     "metadata": {},
     "output_type": "execute_result"
    }
   ],
   "source": [
    "case_study.Platform.unique()"
   ]
  },
  {
   "cell_type": "code",
   "execution_count": 16,
   "id": "1253b16a",
   "metadata": {},
   "outputs": [
    {
     "data": {
      "text/plain": [
       "0        Geo Region 1\n",
       "1        Geo Region 1\n",
       "2        Geo Region 1\n",
       "3        Geo Region 1\n",
       "4        Geo Region 1\n",
       "             ...     \n",
       "87851    Geo Region 4\n",
       "87852    Geo Region 4\n",
       "87853    Geo Region 4\n",
       "87854    Geo Region 4\n",
       "87855    Geo Region 4\n",
       "Name: Geographic Region, Length: 87856, dtype: object"
      ]
     },
     "execution_count": 16,
     "metadata": {},
     "output_type": "execute_result"
    }
   ],
   "source": [
    "case_study['Geographic Region']"
   ]
  },
  {
   "cell_type": "code",
   "execution_count": 17,
   "id": "0cace50a",
   "metadata": {},
   "outputs": [
    {
     "name": "stdout",
     "output_type": "stream",
     "text": [
      "<class 'pandas.core.frame.DataFrame'>\n",
      "RangeIndex: 87856 entries, 0 to 87855\n",
      "Data columns (total 10 columns):\n",
      " #   Column              Non-Null Count  Dtype \n",
      "---  ------              --------------  ----- \n",
      " 0   Date                87856 non-null  object\n",
      " 1   Geographic Region   87856 non-null  object\n",
      " 2   Platform            87856 non-null  object\n",
      " 3   Marketing Channel   87856 non-null  object\n",
      " 4   Visits              87856 non-null  int64 \n",
      " 5   Qualified Shoppers  87856 non-null  int64 \n",
      " 6   Bounced Visits      87856 non-null  int64 \n",
      " 7   Gross Orders        87856 non-null  int64 \n",
      " 8   Net Orders          87856 non-null  int64 \n",
      " 9   Net Room Nights     87856 non-null  int64 \n",
      "dtypes: int64(6), object(4)\n",
      "memory usage: 6.7+ MB\n"
     ]
    }
   ],
   "source": [
    "\n",
    "case_study.info()"
   ]
  },
  {
   "cell_type": "code",
   "execution_count": 18,
   "id": "06944580",
   "metadata": {},
   "outputs": [
    {
     "data": {
      "text/html": [
       "<div>\n",
       "<style scoped>\n",
       "    .dataframe tbody tr th:only-of-type {\n",
       "        vertical-align: middle;\n",
       "    }\n",
       "\n",
       "    .dataframe tbody tr th {\n",
       "        vertical-align: top;\n",
       "    }\n",
       "\n",
       "    .dataframe thead th {\n",
       "        text-align: right;\n",
       "    }\n",
       "</style>\n",
       "<table border=\"1\" class=\"dataframe\">\n",
       "  <thead>\n",
       "    <tr style=\"text-align: right;\">\n",
       "      <th></th>\n",
       "      <th>Visits</th>\n",
       "      <th>Qualified Shoppers</th>\n",
       "      <th>Bounced Visits</th>\n",
       "      <th>Gross Orders</th>\n",
       "      <th>Net Orders</th>\n",
       "      <th>Net Room Nights</th>\n",
       "    </tr>\n",
       "  </thead>\n",
       "  <tbody>\n",
       "    <tr>\n",
       "      <th>count</th>\n",
       "      <td>87856.000000</td>\n",
       "      <td>87856.000000</td>\n",
       "      <td>87856.000000</td>\n",
       "      <td>87856.000000</td>\n",
       "      <td>87856.000000</td>\n",
       "      <td>87856.000000</td>\n",
       "    </tr>\n",
       "    <tr>\n",
       "      <th>mean</th>\n",
       "      <td>27790.999875</td>\n",
       "      <td>12933.446674</td>\n",
       "      <td>12493.199099</td>\n",
       "      <td>1165.226097</td>\n",
       "      <td>940.221248</td>\n",
       "      <td>1994.702012</td>\n",
       "    </tr>\n",
       "    <tr>\n",
       "      <th>std</th>\n",
       "      <td>42464.669508</td>\n",
       "      <td>21935.477879</td>\n",
       "      <td>23037.941038</td>\n",
       "      <td>3160.550979</td>\n",
       "      <td>2552.623371</td>\n",
       "      <td>5504.545651</td>\n",
       "    </tr>\n",
       "    <tr>\n",
       "      <th>min</th>\n",
       "      <td>1.000000</td>\n",
       "      <td>0.000000</td>\n",
       "      <td>0.000000</td>\n",
       "      <td>0.000000</td>\n",
       "      <td>-100.000000</td>\n",
       "      <td>-267.000000</td>\n",
       "    </tr>\n",
       "    <tr>\n",
       "      <th>25%</th>\n",
       "      <td>4150.750000</td>\n",
       "      <td>1718.750000</td>\n",
       "      <td>1568.000000</td>\n",
       "      <td>75.000000</td>\n",
       "      <td>59.000000</td>\n",
       "      <td>129.000000</td>\n",
       "    </tr>\n",
       "    <tr>\n",
       "      <th>50%</th>\n",
       "      <td>12291.500000</td>\n",
       "      <td>5805.000000</td>\n",
       "      <td>4917.000000</td>\n",
       "      <td>329.000000</td>\n",
       "      <td>261.000000</td>\n",
       "      <td>554.000000</td>\n",
       "    </tr>\n",
       "    <tr>\n",
       "      <th>75%</th>\n",
       "      <td>33631.000000</td>\n",
       "      <td>15200.500000</td>\n",
       "      <td>13944.000000</td>\n",
       "      <td>1012.000000</td>\n",
       "      <td>807.000000</td>\n",
       "      <td>1659.000000</td>\n",
       "    </tr>\n",
       "    <tr>\n",
       "      <th>max</th>\n",
       "      <td>683764.000000</td>\n",
       "      <td>280919.000000</td>\n",
       "      <td>546089.000000</td>\n",
       "      <td>38354.000000</td>\n",
       "      <td>35318.000000</td>\n",
       "      <td>79141.000000</td>\n",
       "    </tr>\n",
       "  </tbody>\n",
       "</table>\n",
       "</div>"
      ],
      "text/plain": [
       "              Visits  Qualified Shoppers  Bounced Visits  Gross Orders  \\\n",
       "count   87856.000000        87856.000000    87856.000000  87856.000000   \n",
       "mean    27790.999875        12933.446674    12493.199099   1165.226097   \n",
       "std     42464.669508        21935.477879    23037.941038   3160.550979   \n",
       "min         1.000000            0.000000        0.000000      0.000000   \n",
       "25%      4150.750000         1718.750000     1568.000000     75.000000   \n",
       "50%     12291.500000         5805.000000     4917.000000    329.000000   \n",
       "75%     33631.000000        15200.500000    13944.000000   1012.000000   \n",
       "max    683764.000000       280919.000000   546089.000000  38354.000000   \n",
       "\n",
       "         Net Orders  Net Room Nights  \n",
       "count  87856.000000     87856.000000  \n",
       "mean     940.221248      1994.702012  \n",
       "std     2552.623371      5504.545651  \n",
       "min     -100.000000      -267.000000  \n",
       "25%       59.000000       129.000000  \n",
       "50%      261.000000       554.000000  \n",
       "75%      807.000000      1659.000000  \n",
       "max    35318.000000     79141.000000  "
      ]
     },
     "execution_count": 18,
     "metadata": {},
     "output_type": "execute_result"
    }
   ],
   "source": [
    "\n",
    "case_study.describe()"
   ]
  },
  {
   "cell_type": "code",
   "execution_count": 19,
   "id": "b4ba82a6",
   "metadata": {},
   "outputs": [
    {
     "data": {
      "text/plain": [
       "Index(['Date', 'Geographic Region', 'Platform', 'Marketing Channel', 'Visits',\n",
       "       'Qualified Shoppers', 'Bounced Visits', 'Gross Orders', 'Net Orders',\n",
       "       'Net Room Nights'],\n",
       "      dtype='object')"
      ]
     },
     "execution_count": 19,
     "metadata": {},
     "output_type": "execute_result"
    },
    {
     "data": {
      "image/png": "[encoded data removed]",
      "text/plain": [
       "<Figure size 720x432 with 2 Axes>"
      ]
     },
     "metadata": {
      "needs_background": "light"
     },
     "output_type": "display_data"
    }
   ],
   "source": [
    "corr = case_study.corr(method='kendall')\n",
    "plt.figure(figsize=(10,6))\n",
    "sns.heatmap(corr, annot=True)\n",
    "case_study.columns"
   ]
  },
  {
   "cell_type": "code",
   "execution_count": 20,
   "id": "30d6a077",
   "metadata": {},
   "outputs": [],
   "source": [
    "from sklearn.linear_model import LogisticRegression\n",
    "from sklearn.linear_model import LinearRegression\n",
    "from sklearn.model_selection import train_test_split\n",
    "from sklearn.metrics import classification_report\n",
    "from sklearn.metrics import confusion_matrix\n",
    "from sklearn.metrics import r2_score"
   ]
  },
  {
   "cell_type": "code",
   "execution_count": 23,
   "id": "b42bfbfa",
   "metadata": {},
   "outputs": [
    {
     "data": {
      "text/plain": [
       "72151      165\n",
       "38575     1476\n",
       "50721    28026\n",
       "40714       58\n",
       "7166      2305\n",
       "Name: Net Room Nights, dtype: int64"
      ]
     },
     "execution_count": 23,
     "metadata": {},
     "output_type": "execute_result"
    }
   ],
   "source": [
    "#Defining the independent variables and dependent variables\n",
    "x = case_study.iloc[:,[4,5,6,7,8]]\n",
    "y = case_study['Net Room Nights']\n",
    "#Getting Test and Training Set\n",
    "x_train,x_test,y_train,y_test=train_test_split(x,y,test_size=.1,random_state=353)\n",
    "x_train.head()\n",
    "y_train.head()"
   ]
  },
  {
   "cell_type": "code",
   "execution_count": 24,
   "id": "410773a2",
   "metadata": {},
   "outputs": [
    {
     "data": {
      "text/plain": [
       "(79070, 5)"
      ]
     },
     "execution_count": 24,
     "metadata": {},
     "output_type": "execute_result"
    }
   ],
   "source": [
    "x_train.shape"
   ]
  },
  {
   "cell_type": "code",
   "execution_count": 25,
   "id": "7fb125c2",
   "metadata": {},
   "outputs": [
    {
     "data": {
      "text/plain": [
       "(8786, 5)"
      ]
     },
     "execution_count": 25,
     "metadata": {},
     "output_type": "execute_result"
    }
   ],
   "source": [
    "x_test.shape"
   ]
  },
  {
   "cell_type": "code",
   "execution_count": 26,
   "id": "7287d32e",
   "metadata": {},
   "outputs": [
    {
     "data": {
      "text/plain": [
       "0.9888826680803591"
      ]
     },
     "execution_count": 26,
     "metadata": {},
     "output_type": "execute_result"
    }
   ],
   "source": [
    "#Prepare a Linear Regression Model\n",
    "reg=LinearRegression()\n",
    "reg.fit(x_train, y_train)\n",
    "y_pred=reg.predict(x_test)\n",
    "from sklearn.metrics import r2_score\n",
    "r2_score(y_test, y_pred)"
   ]
  },
  {
   "cell_type": "code",
   "execution_count": 32,
   "id": "a4533188",
   "metadata": {},
   "outputs": [
    {
     "data": {
      "text/plain": [
       "array([ 395.42957367,  976.70944406,  320.73424735, ..., 1412.24911884,\n",
       "        137.35626399,  300.41638124])"
      ]
     },
     "execution_count": 32,
     "metadata": {},
     "output_type": "execute_result"
    }
   ],
   "source": [
    "y_pred"
   ]
  },
  {
   "cell_type": "code",
   "execution_count": null,
   "id": "5298d3fd",
   "metadata": {},
   "outputs": [],
   "source": []
  }
 ],
 "metadata": {
  "kernelspec": {
   "display_name": "Python 3",
   "language": "python",
   "name": "python3"
  },
  "language_info": {
   "codemirror_mode": {
    "name": "ipython",
    "version": 3
   },
   "file_extension": ".py",
   "mimetype": "text/x-python",
   "name": "python",
   "nbconvert_exporter": "python",
   "pygments_lexer": "ipython3",
   "version": "3.8.8"
  }
 },
 "nbformat": 4,
 "nbformat_minor": 5
}
